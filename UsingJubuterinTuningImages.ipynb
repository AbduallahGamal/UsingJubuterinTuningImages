{
  "nbformat": 4,
  "nbformat_minor": 0,
  "metadata": {
    "colab": {
      "name": "UsingJubuterinTuningImages.ipynb",
      "provenance": [],
      "authorship_tag": "ABX9TyPPGNJbQfrK7p+wa/CrQ/Lz",
      "include_colab_link": true
    },
    "kernelspec": {
      "name": "python3",
      "display_name": "Python 3"
    },
    "language_info": {
      "name": "python"
    }
  },
  "cells": [
    {
      "cell_type": "markdown",
      "metadata": {
        "id": "view-in-github",
        "colab_type": "text"
      },
      "source": [
        "<a href=\"https://colab.research.google.com/github/AbduallahGamal/UsingJubuterinTuningImages/blob/main/UsingJubuterinTuningImages.ipynb\" target=\"_parent\"><img src=\"https://colab.research.google.com/assets/colab-badge.svg\" alt=\"Open In Colab\"/></a>"
      ]
    },
    {
      "cell_type": "code",
      "metadata": {
        "id": "B4o-2p3UfO6X"
      },
      "source": [
        "import pandas as pd\n",
        "import os\n",
        "import shutil"
      ],
      "execution_count": null,
      "outputs": []
    },
    {
      "cell_type": "code",
      "metadata": {
        "id": "3EAFebYAfed_"
      },
      "source": [
        "# COVID +\n",
        "file_path = 'chestxray/covid-chestxray-dataset-master/metadata.csv'"
      ],
      "execution_count": null,
      "outputs": []
    },
    {
      "cell_type": "code",
      "metadata": {
        "id": "9p_4ToE8fhJ5"
      },
      "source": [
        "image_path = 'chestxray/covid-chestxray-dataset-master/images'"
      ],
      "execution_count": null,
      "outputs": []
    },
    {
      "cell_type": "code",
      "metadata": {
        "id": "jtppsNfdfju1"
      },
      "source": [
        "dataset = pd.read_csv(file_path)"
      ],
      "execution_count": null,
      "outputs": []
    },
    {
      "cell_type": "code",
      "metadata": {
        "id": "P3B-qwD8fkvI"
      },
      "source": [
        "print(dataset.shape)"
      ],
      "execution_count": null,
      "outputs": []
    },
    {
      "cell_type": "code",
      "metadata": {
        "id": "9JeDuiFNfqq3"
      },
      "source": [
        "dataset.head()"
      ],
      "execution_count": null,
      "outputs": []
    },
    {
      "cell_type": "code",
      "metadata": {
        "id": "ffRZ0pF5gGnh"
      },
      "source": [
        "target_fold = 'COVID-19 +/COVID+'"
      ],
      "execution_count": null,
      "outputs": []
    },
    {
      "cell_type": "code",
      "metadata": {
        "id": "JoATychlgKtw"
      },
      "source": [
        "if not os.path.exists(target_fold):\n",
        "    os.mkdir(target_fold)\n",
        "    print('Covid folder created')"
      ],
      "execution_count": null,
      "outputs": []
    },
    {
      "cell_type": "code",
      "metadata": {
        "id": "OKpmPVqpgOka"
      },
      "source": [
        "counter = 0\n",
        "for (i,row) in dataset.iterrows():\n",
        "    if row['finding'] == 'Pneumonia/Viral/COVID-19' and row['view'] == 'PA':\n",
        "        filename = row['filename']\n",
        "        \n",
        "        img_src = os.path.join(image_path, filename)\n",
        "        img_pth = os.path.join(target_fold, filename)\n",
        "        shutil.copy2(img_src, img_pth)\n",
        "        \n",
        "        print('Images copied ', counter)\n",
        "        counter +=1\n",
        "print(counter)"
      ],
      "execution_count": null,
      "outputs": []
    },
    {
      "cell_type": "code",
      "metadata": {
        "id": "isNI1eVSgUrC"
      },
      "source": [
        "# Covid-\n",
        "import random\n",
        "Kagll_file_path = 'chest-xray-kaggle/chest_xray/train/NORMAL'\n",
        "Target_NRM_fold = 'OUR_DATA/COVID-'\n",
        "\n",
        "img_names = os.listdir(Kagll_file_path)"
      ],
      "execution_count": null,
      "outputs": []
    },
    {
      "cell_type": "code",
      "metadata": {
        "id": "ga5LtHx5gZiW"
      },
      "source": [
        "img_names"
      ],
      "execution_count": null,
      "outputs": []
    },
    {
      "cell_type": "code",
      "metadata": {
        "id": "KijLF9ujgalB"
      },
      "source": [
        "random.shuffle(img_names)"
      ],
      "execution_count": null,
      "outputs": []
    },
    {
      "cell_type": "code",
      "metadata": {
        "id": "k6aMlGwZgf4J"
      },
      "source": [
        "for i in range(196):\n",
        "    img_nam = img_names[i]\n",
        "    \n",
        "    img_src2 = os.path.join(Kagll_file_path, img_nam)\n",
        "    img_des2 = os.path.join(Target_NRM_fold)\n",
        "    shutil.copy2(img_src2, img_des2)\n",
        "    print(\"image copied done \", i)"
      ],
      "execution_count": null,
      "outputs": []
    }
  ]
}